{
 "cells": [
  {
   "cell_type": "code",
   "id": "initial_id",
   "metadata": {
    "collapsed": true,
    "ExecuteTime": {
     "end_time": "2024-12-06T16:50:18.795493Z",
     "start_time": "2024-12-06T16:50:18.757518Z"
    }
   },
   "source": [
    "import pickle\n",
    "filename = 'finalized_model.sav'\n",
    "\n",
    "model = pickle.load(open(filename, 'rb'))"
   ],
   "outputs": [],
   "execution_count": 5
  },
  {
   "metadata": {
    "ExecuteTime": {
     "end_time": "2024-12-06T16:50:20.105108Z",
     "start_time": "2024-12-06T16:50:20.092279Z"
    }
   },
   "cell_type": "code",
   "source": "print(model.predict([[90, 42, 43, 20.879744, 75, 5.5,220]]))",
   "id": "4aa07190f5f65e92",
   "outputs": [
    {
     "name": "stdout",
     "output_type": "stream",
     "text": [
      "['rice']\n"
     ]
    }
   ],
   "execution_count": 6
  },
  {
   "metadata": {
    "ExecuteTime": {
     "end_time": "2024-12-06T17:00:40.055579Z",
     "start_time": "2024-12-06T17:00:40.035064Z"
    }
   },
   "cell_type": "code",
   "source": [
    "N = 90\n",
    "P = 42\n",
    "K = 43\n",
    "temp = 40\n",
    "humidity = 75\n",
    "ph = 5.5\n",
    "rainfall = 100\n",
    "feature_list = [N, P, K, temp, humidity, ph, rainfall]\n",
    "    # single_pred = np.array(feature_list).reshape(1, -1)\n",
    "    #\n",
    "    # scaled_features = ms.transform(single_pred)\n",
    "    # final_features = sc.transform(scaled_features)\n",
    "prediction = model.predict([feature_list])\n",
    "\n",
    "    # crop_dict = {1: \"Rice\", 2: \"Maize\", 3: \"Jute\", 4: \"Cotton\", 5: \"Coconut\", 6: \"Papaya\", 7: \"Orange\",\n",
    "    #              8: \"Apple\", 9: \"Muskmelon\", 10: \"Watermelon\", 11: \"Grapes\", 12: \"Mango\", 13: \"Banana\",\n",
    "    #              14: \"Pomegranate\", 15: \"Lentil\", 16: \"Blackgram\", 17: \"Mungbean\", 18: \"Mothbeans\",\n",
    "    #              19: \"Pigeonpeas\", 20: \"Kidneybeans\", 21: \"Chickpea\", 22: \"Coffee\"}\n",
    "result = \"{} is the best crop to be cultivated right there\".format(prediction[0])\n",
    "print(result)"
   ],
   "id": "4521b737e828702b",
   "outputs": [
    {
     "name": "stdout",
     "output_type": "stream",
     "text": [
      "papaya is the best crop to be cultivated right there\n"
     ]
    }
   ],
   "execution_count": 12
  },
  {
   "metadata": {},
   "cell_type": "code",
   "outputs": [],
   "execution_count": null,
   "source": "",
   "id": "478a45d8d17e4247"
  }
 ],
 "metadata": {
  "kernelspec": {
   "display_name": "Python 3",
   "language": "python",
   "name": "python3"
  },
  "language_info": {
   "codemirror_mode": {
    "name": "ipython",
    "version": 2
   },
   "file_extension": ".py",
   "mimetype": "text/x-python",
   "name": "python",
   "nbconvert_exporter": "python",
   "pygments_lexer": "ipython2",
   "version": "2.7.6"
  }
 },
 "nbformat": 4,
 "nbformat_minor": 5
}
